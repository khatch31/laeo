{
 "cells": [
  {
   "cell_type": "code",
   "execution_count": null,
   "metadata": {
    "id": "Eu5P61Lh3t6M"
   },
   "outputs": [],
   "source": [
    "import tensorflow as tf\n",
    "import dill\n",
    "import contrastive\n",
    "from contrastive import utils as contrastive_utils\n",
    "from acme import specs\n",
    "import jax\n",
    "import numpy as np\n",
    "from scipy.spatial.distance import cdist\n",
    "from collections import defaultdict\n",
    "from matplotlib import pyplot as plt\n",
    "\n",
    "import imageio\n",
    "from base64 import b64encode\n",
    "from IPython.display import display, HTML\n",
    "import tempfile\n",
    "import tqdm\n",
    "import matplotlib.pyplot as plt\n",
    "import jax.numpy as jnp\n",
    "import gym\n",
    "from acme.wrappers import gym_wrapper\n",
    "\n",
    "import metaworld\n",
    "# from contrastive_rl import classifier_envs\n",
    "from acme.wrappers import gym_wrapper\n",
    "from acme.wrappers import step_limit\n",
    "# from contrastive_rl import classifier_utils\n",
    "# from metaworld.envs.mujoco.utils import rotation"
   ]
  },
  {
   "cell_type": "code",
   "execution_count": null,
   "metadata": {
    "id": "yI8zuom2jF4-"
   },
   "outputs": [],
   "source": [
    "# Wasn't able to use the checkpoints that Ben shared since there were some structures\n",
    "# from Google's internal libaries. Kyle's checkpoints work though!\n",
    "filename = './checkpoints/learner/'  # <-- Of course, this will be different for you\n",
    "reader = tf.train.load_checkpoint(filename)\n",
    "params = reader.get_tensor('learner/.ATTRIBUTES/py_state')\n",
    "state = dill.loads(params)"
   ]
  },
  {
   "cell_type": "code",
   "execution_count": null,
   "metadata": {
    "id": "pK2gNZ4AjH1p",
    "scrolled": false
   },
   "outputs": [],
   "source": [
    "env, obs_dim = contrastive_utils.make_environment('fixed-goal-point_Cross', start_index=0, end_index=-1, seed=25)\n",
    "spec = specs.make_environment_spec(env)\n",
    "networks = contrastive.make_networks(spec, obs_dim,\n",
    "                             actor_min_std=1e-6,  # <-- Make sure this is the same value used for training.\n",
    "                             use_image_obs=False)\n",
    "\n",
    "key = jax.random.PRNGKey(0)\n",
    "\n",
    "# @jax.jit\n",
    "def _act(obs, key):\n",
    "  dist_params = networks.policy_network.apply(\n",
    "    state.policy_params, obs[None])\n",
    "  key, rng = jax.random.split(key, 2)\n",
    "  # action = dist_params.mode()  # <-- Use this if you want to act deterministically\n",
    "  action = networks.sample(dist_params, rng)\n",
    "  return action[0], key\n",
    "\n",
    "ts = env.reset()\n",
    "_act(ts.observation, key)"
   ]
  },
  {
   "cell_type": "code",
   "execution_count": null,
   "metadata": {},
   "outputs": [],
   "source": [
    "state.policy_params.keys()"
   ]
  },
  {
   "cell_type": "code",
   "execution_count": null,
   "metadata": {
    "id": "7nuWxhIYjPPv"
   },
   "outputs": [],
   "source": [
    "# the video writer commands will have to change here. I'd probably recommend using\n",
    "# imageio. You just make a list of all the images, and then call imageio.mimsave(filename, image_list)\n",
    "\n",
    "waypoints = defaultdict(list)\n",
    "\n",
    "for x in range(100):\n",
    "    # If i change the range here then I get that many new startign configurations\n",
    "  video_filename = '/tmp/video.mp4'\n",
    "  writer = []\n",
    "\n",
    "  vec = []\n",
    "  ts = env.reset()\n",
    "  starting_position = env.state\n",
    "#   print('Starting configuration: {}'.format(env.state))\n",
    "  goal_position = env.goal\n",
    "  env._goal_img = ts.observation.copy()\n",
    "  for t in tqdm.trange(50):\n",
    "#     print(goal_state, env.state)\n",
    "    a, key = _act(ts.observation, key)\n",
    "    ts = env.step(a.to_py())\n",
    "    # use the following lines for image-based environments.\n",
    "#     s = ts.observation[:obs_dim]\n",
    "    g = ts.observation[obs_dim:]\n",
    "    img = env.render(mode='rgb_array')\n",
    "#     img = np.concatenate([\n",
    "#       s.reshape((64, 64, 3)),\n",
    "#       g.reshape((64, 64, 3))\n",
    "#     ], axis=1)\n",
    "    # for state-based environments, use the following\n",
    "    # img = env.render(mode='rgb_array'), or something like that\n",
    "    writer.append(img)\n",
    "    if ts.last():\n",
    "      print('Ending configuration: {}'.format(env.state))\n",
    "      ending_position = env.state\n",
    "      color = 'r'\n",
    "      print(ending_position, starting_position, cdist([ending_position], [starting_position]))\n",
    "      if cdist([ending_position], [starting_position])<1.5:\n",
    "        color = 'g'\n",
    "        print('close!')\n",
    "      waypoints['configuration'].append({'starting_position': starting_position, 'goal_position':goal_position, 'color': color})\n",
    "      break\n",
    "#   imageio.mimsave('output_{}.gif'.format(x), writer)\n",
    "\n",
    "#   mp4 = open('output.gif','rb').read()\n",
    "#   data_url = \"data:video/mp4;base64,\" + b64encode(mp4).decode()\n",
    "#   html = HTML(\"\"\"\n",
    "#   <video width=800 framerate=1 controls>\n",
    "#         <source src=\"%s\" type=\"video/mp4\">\n",
    "#   </video>\n",
    "#   \"\"\" % data_url)\n",
    "#   display(html)\n",
    "# Not sure if the _dist variable applies to a state based environment? Commenting for now\n",
    "#   plt.plot(env.environment.environment.environment._dist)\n",
    "#   plt.show()"
   ]
  },
  {
   "cell_type": "code",
   "execution_count": null,
   "metadata": {},
   "outputs": [],
   "source": [
    "def plot_exploration(waypoints, environment = 'Cross'):\n",
    "    h, w, walls = env_config(environment)\n",
    "    x, y, c = [waypoints['configuration'][t]['starting_position'][0] for t in range(len(waypoints['configuration']))], [waypoints['configuration'][t]['starting_position'][1] for t in range(len(waypoints['configuration']))], [waypoints['configuration'][t]['color'] for t in range(len(waypoints['configuration']))]\n",
    "    g_x, g_y = waypoints['configuration'][0]['goal_position'][0], waypoints['configuration'][0]['goal_position'][1]\n",
    "    fig = plt.figure(figsize = (10, 10))\n",
    "    ax = fig.add_subplot()\n",
    "    ax.scatter(y, x, color = c, marker = '+', s = 50, label = 'start locs')\n",
    "    ax.scatter(g_y, g_x, color = 'g', marker = 'o', s = 100, label = 'goal loc')\n",
    "    ax.scatter(walls[1], walls[0], color = 'b', marker = 'x', s = 100, label = 'walls')\n",
    "    plt.xlabel('Y axis')\n",
    "    plt.ylabel('X axis')\n",
    "    plt.title('Goal location: {}, {}'.format(g_y, g_x))\n",
    "    plt.legend(loc = 'best')\n",
    "    plt.yticks([idx for idx in range(h)])\n",
    "    plt.ylim(h - 1, 0)\n",
    "    plt.xlim(0, w - 1)\n",
    "    plt.savefig('this.jpg')\n",
    "    return 0\n",
    "\n",
    "plot_exploration(waypoints)"
   ]
  },
  {
   "cell_type": "code",
   "execution_count": null,
   "metadata": {},
   "outputs": [],
   "source": [
    "def env_config(environment):\n",
    "    wall_indices = []\n",
    "    h, w = WALLS[environment].shape\n",
    "    wall_x, wall_y = np.where(WALLS[environment]==1)\n",
    "    return h, w, (wall_x, wall_y)"
   ]
  },
  {
   "cell_type": "code",
   "execution_count": null,
   "metadata": {},
   "outputs": [],
   "source": [
    "WALLS = {\n",
    "    'Small':  # max_goal_dist = 3\n",
    "        np.array([[0, 0, 0, 0],\n",
    "                  [0, 0, 0, 0],\n",
    "                  [0, 0, 0, 0],\n",
    "                  [0, 0, 0, 0]]),\n",
    "    'Cross':  # max_goal_dist = 9\n",
    "        np.array([[0, 0, 0, 0, 0, 0, 0],\n",
    "                  [0, 0, 0, 1, 0, 0, 0],\n",
    "                  [0, 0, 0, 1, 0, 0, 0],\n",
    "                  [0, 1, 1, 1, 1, 1, 0],\n",
    "                  [0, 0, 0, 1, 0, 0, 0],\n",
    "                  [0, 0, 0, 1, 0, 0, 0],\n",
    "                  [0, 0, 0, 0, 0, 0, 0]]),\n",
    "    'FourRooms':  # max_goal_dist = 14\n",
    "        np.array([[0, 0, 0, 0, 0, 1, 0, 0, 0, 0, 0],\n",
    "                  [0, 0, 0, 0, 0, 1, 0, 0, 0, 0, 0],\n",
    "                  [0, 0, 0, 0, 0, 0, 0, 0, 0, 0, 0],\n",
    "                  [0, 0, 0, 0, 0, 1, 0, 0, 0, 0, 0],\n",
    "                  [0, 0, 0, 0, 0, 1, 0, 0, 0, 0, 0],\n",
    "                  [1, 0, 1, 1, 1, 1, 0, 0, 0, 0, 0],\n",
    "                  [0, 0, 0, 0, 0, 1, 1, 1, 0, 1, 1],\n",
    "                  [0, 0, 0, 0, 0, 1, 0, 0, 0, 0, 0],\n",
    "                  [0, 0, 0, 0, 0, 1, 0, 0, 0, 0, 0],\n",
    "                  [0, 0, 0, 0, 0, 0, 0, 0, 0, 0, 0],\n",
    "                  [0, 0, 0, 0, 0, 1, 0, 0, 0, 0, 0]]),\n",
    "    'U':  # max_goal_dist = 14\n",
    "        np.array([[0, 0, 0],\n",
    "                  [0, 1, 0],\n",
    "                  [0, 1, 0],\n",
    "                  [0, 1, 0],\n",
    "                  [1, 1, 0],\n",
    "                  [0, 1, 0],\n",
    "                  [0, 1, 0],\n",
    "                  [0, 1, 0],\n",
    "                  [0, 0, 0]]),\n",
    "    'Spiral11x11':  # max_goal_dist = 45\n",
    "        np.array([[1, 1, 1, 1, 1, 1, 1, 1, 1, 1, 1],\n",
    "                  [1, 0, 0, 0, 0, 0, 0, 0, 0, 0, 0],\n",
    "                  [1, 0, 1, 1, 1, 1, 1, 1, 1, 1, 0],\n",
    "                  [1, 0, 1, 0, 0, 0, 0, 0, 0, 1, 0],\n",
    "                  [1, 0, 1, 0, 1, 1, 1, 1, 0, 1, 0],\n",
    "                  [1, 0, 1, 0, 1, 0, 0, 1, 0, 1, 0],\n",
    "                  [1, 0, 1, 0, 1, 1, 0, 1, 0, 1, 0],\n",
    "                  [1, 0, 1, 0, 0, 0, 0, 1, 0, 1, 0],\n",
    "                  [1, 0, 1, 1, 1, 1, 1, 1, 0, 1, 0],\n",
    "                  [1, 0, 0, 0, 0, 0, 0, 0, 0, 1, 0],\n",
    "                  [1, 1, 1, 1, 1, 1, 1, 1, 1, 1, 0]]),\n",
    "    'Maze11x11':  # max_goal_dist = 49\n",
    "        np.array([[0, 1, 0, 0, 0, 1, 0, 0, 0, 1, 0],\n",
    "                  [0, 1, 0, 1, 0, 1, 0, 1, 0, 1, 0],\n",
    "                  [0, 1, 0, 1, 0, 1, 0, 1, 0, 1, 0],\n",
    "                  [0, 1, 0, 1, 0, 1, 0, 1, 0, 1, 0],\n",
    "                  [0, 0, 0, 1, 0, 0, 0, 1, 0, 1, 0],\n",
    "                  [1, 1, 1, 1, 1, 1, 1, 1, 0, 1, 0],\n",
    "                  [1, 1, 1, 0, 0, 0, 1, 0, 0, 1, 0],\n",
    "                  [1, 1, 1, 0, 1, 0, 1, 0, 1, 1, 0],\n",
    "                  [0, 0, 0, 0, 1, 0, 0, 0, 1, 1, 0],\n",
    "                  [0, 1, 1, 1, 1, 1, 1, 1, 1, 1, 0],\n",
    "                  [0, 0, 0, 0, 0, 0, 0, 0, 0, 0, 0]]),\n",
    "}"
   ]
  }
 ],
 "metadata": {
  "colab": {
   "collapsed_sections": [],
   "last_runtime": {
    "build_target": "",
    "kind": "local"
   },
   "name": "visualization script.ipynb",
   "provenance": [
    {
     "file_id": "1om0pY4JfPQXzZHCIl7wnOChHfbYhRsfo",
     "timestamp": 1658855827303
    }
   ]
  },
  "kernelspec": {
   "display_name": "Python 3 (ipykernel)",
   "language": "python",
   "name": "python3"
  },
  "language_info": {
   "codemirror_mode": {
    "name": "ipython",
    "version": 3
   },
   "file_extension": ".py",
   "mimetype": "text/x-python",
   "name": "python",
   "nbconvert_exporter": "python",
   "pygments_lexer": "ipython3",
   "version": "3.9.12"
  },
  "vscode": {
   "interpreter": {
    "hash": "31f2aee4e71d21fbe5cf8b01ff0e069b9275f58929596ceb00d14d90e3e16cd6"
   }
  }
 },
 "nbformat": 4,
 "nbformat_minor": 1
}
